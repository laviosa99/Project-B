{
 "cells": [
  {
   "cell_type": "code",
   "execution_count": null,
   "id": "30c7823e",
   "metadata": {},
   "outputs": [],
   "source": [
    "import numpy as np\n",
    "import pandas as pd\n",
    "from CollabFilterOneVectorPerItem import CollabFilterOneVectorPerItem\n",
    "from train_valid_test_loader import load_train_valid_test_datasets\n",
    "import matplotlib.pyplot as plt"
   ]
  },
  {
   "cell_type": "markdown",
   "id": "8ebfd74b",
   "metadata": {},
   "source": [
    "Part 1A:"
   ]
  },
  {
   "cell_type": "code",
   "execution_count": 185,
   "id": "efa34785",
   "metadata": {},
   "outputs": [],
   "source": [
    "train_tuple, valid_tuple, test_tuple, n_users, n_items = load_train_valid_test_datasets()\n",
    "K = np.array([2, 10, 50])\n",
    "epoch_a = []\n",
    "tr_loss_a = []\n",
    "va_loss_a = []\n",
    "params_a = []\n",
    "\n",
    "for k in K:\n",
    "        model = CollabFilterOneVectorPerItem(\n",
    "                n_epochs=50, batch_size=250, step_size=0.1,\n",
    "                n_factors=k, alpha=0.0)\n",
    "        model.init_parameter_dict(n_users, n_items, train_tuple)\n",
    "        model.fit(train_tuple, valid_tuple) \n",
    "        epoch_a.append(model.trace_epoch)\n",
    "        tr_loss_a.append(model.trace_mae_train)\n",
    "        va_loss_a.append(model.trace_mae_valid)\n",
    "        params_a.append(model.param_dict)\n"
   ]
  },
  {
   "cell_type": "code",
   "execution_count": 186,
   "id": "b5359506",
   "metadata": {},
   "outputs": [],
   "source": [
    "K"
   ]
  },
  {
   "cell_type": "code",
   "execution_count": 187,
   "id": "71d3f15a",
   "metadata": {},
   "outputs": [],
   "source": [
    "for i, k in enumerate(K):\n",
    "    plt.figure(figsize=(8, 5))  # Create a new figure for each K\n",
    "    plt.plot(epoch_a[i], tr_loss_a[i], label=f'Train Loss')\n",
    "    plt.plot(epoch_a[i], va_loss_a[i], label=f'Validation Loss',)\n",
    "    plt.title(f'MAE vs Epoch for K = {k}')\n",
    "    plt.xlabel('Epoch')\n",
    "    plt.ylabel('MAE')\n",
    "    plt.legend()\n",
    "    plt.tight_layout()\n",
    "    plt.show()"
   ]
  },
  {
   "cell_type": "code",
   "execution_count": 188,
   "id": "c737ce8b",
   "metadata": {},
   "outputs": [],
   "source": [
    "# Plotting K = 2, 10, 50\n",
    "for i, k in enumerate(K):\n",
    "    plt.plot(epoch_a[i], tr_loss_a[i], label= 'Train K=' + str(k))\n",
    "    plt.plot(epoch_a[i], va_loss_a[i], label= 'Valid K=' + str(k))\n",
    "\n",
    "# for i, k in enumerate(K):\n",
    "#     for j in range(len(epoch_a[0])):\n",
    "#         plt.plot(epoch_a[i][j], tr_loss_a[i][j], label= 'Train K=' + str(k))\n",
    "#         plt.plot(epoch_a[i][j], va_loss_a[i][j], label= 'Valid K=' + str(k))\n",
    "plt.legend()\n",
    "plt.title(label='Loss vs Epoch for K = 2, 10, 50')\n",
    "plt.xlabel('Epoch')\n",
    "plt.ylabel('Loss')\n",
    "plt.tight_layout()\n",
    "plt.show()\n"
   ]
  },
  {
   "cell_type": "markdown",
   "id": "0f79a482",
   "metadata": {},
   "source": [
    "Part 1B: "
   ]
  },
  {
   "cell_type": "code",
   "execution_count": 189,
   "id": "35fe0b19",
   "metadata": {},
   "outputs": [],
   "source": [
    "# Training model with K=50 and various alpha > 0\n",
    "K = 50\n",
    "alphas = np.linspace(0.01, 10, 20)\n",
    "tr_loss_b = []\n",
    "va_loss_b = []\n",
    "params_b = []\n",
    "\n",
    "for alpha in alphas:\n",
    "        model = CollabFilterOneVectorPerItem(\n",
    "                n_epochs=10, batch_size=10000, step_size=0.1,\n",
    "                n_factors=2, alpha=alpha)\n",
    "        model.init_parameter_dict(n_users, n_items, train_tuple)\n",
    "        model.fit(train_tuple, valid_tuple) \n",
    "        tr_loss_b.append(model.trace_mae_train)\n",
    "        va_loss_b.append(model.trace_mae_valid)\n",
    "        params_b.append(model.param_dict)\n",
    "\n",
    "tr_loss_b = np.array(tr_loss_b.T)\n",
    "va_loss_b = np.array(va_loss_b.T)\n",
    "        "
   ]
  },
  {
   "cell_type": "code",
   "execution_count": null,
   "id": "f8e4af46",
   "metadata": {},
   "outputs": [],
   "source": [
    "plt.plot( model.trace_epoch, model.trace_mae_train, '.-')\n",
    "plt.show()\n",
    "# print(tr_loss_b)"
   ]
  },
  {
   "cell_type": "code",
   "execution_count": null,
   "id": "1cb38403",
   "metadata": {},
   "outputs": [],
   "source": [
    "# Plotting varying alpha > 0\n",
    "for i in range(20):\n",
    "    plt.plot(model.trace_epoch, tr_loss_b[:, i], label= 'Train alpha=' + str(alphas[i]))\n",
    "    plt.plot(model.trace_epoch, va_loss_b[:, i], label= 'Valid alpha=' + str(alphas[i]))\n",
    "plt.legend()\n",
    "plt.title(label='Loss vs Epoch for Varying Alpha > 0')\n",
    "plt.xlabel('Epoch')\n",
    "plt.ylabel('Loss')\n",
    "plt.show()"
   ]
  },
  {
   "cell_type": "code",
   "execution_count": null,
   "id": "2d4cb777",
   "metadata": {},
   "outputs": [],
   "source": [
    "# Finding best alpha\n",
    "final_va_loss_b = [loss[-1] for loss in va_loss_b]\n",
    "best_alpha_idx = np.argmin(final_va_loss_b)\n",
    "best_alpha = alphas[best_alpha_idx]\n",
    "print(f\"Best alpha: {best_alpha}\")"
   ]
  },
  {
   "cell_type": "code",
   "execution_count": null,
   "id": "28fd6763",
   "metadata": {},
   "outputs": [],
   "source": []
  },
  {
   "cell_type": "markdown",
   "id": "e38566f3",
   "metadata": {},
   "source": [
    "Part 1B: "
   ]
  },
  {
   "cell_type": "code",
   "execution_count": null,
   "id": "9c268755",
   "metadata": {},
   "outputs": [],
   "source": [
    "# Training model with K=50 and various alpha > 0\n",
    "K = 50\n",
    "alphas = np.linspace(0.01, 10, 20)\n",
    "tr_loss_b = []\n",
    "va_loss_b = []\n",
    "params_b = []\n",
    "\n",
    "for alpha in alphas:\n",
    "        model = CollabFilterOneVectorPerItem(\n",
    "                n_epochs=10, batch_size=10000, step_size=0.1,\n",
    "                n_factors=2, alpha=alpha)\n",
    "        model.init_parameter_dict(n_users, n_items, train_tuple)\n",
    "        model.fit(train_tuple, valid_tuple) \n",
    "        tr_loss_b.append(model.trace_mae_train)\n",
    "        va_loss_b.append(model.trace_mae_valid)\n",
    "        params_b.append(model.param_dict)\n",
    "\n",
    "tr_loss_b = np.array(tr_loss_b.T)\n",
    "va_loss_b = np.array(va_loss_b.T)\n",
    "        "
   ]
  },
  {
   "cell_type": "code",
   "execution_count": null,
   "id": "4c4c2049",
   "metadata": {},
   "outputs": [],
   "source": [
    "# Plotting varying alpha > 0\n",
    "for i in range(20):\n",
    "    plt.plot(model.trace_epoch, tr_loss_b[:, i], label= 'Train alpha=' + str(alphas[i]))\n",
    "    plt.plot(model.trace_epoch, va_loss_b[:, i], label= 'Valid alpha=' + str(alphas[i]))\n",
    "plt.legend()\n",
    "plt.title(label='Loss vs Epoch for Varying Alpha > 0')\n",
    "plt.xlabel('Epoch')\n",
    "plt.ylabel('Loss')\n",
    "plt.show()"
   ]
  },
  {
   "cell_type": "code",
   "execution_count": null,
   "id": "20300855",
   "metadata": {},
   "outputs": [],
   "source": [
    "# Finding best alpha\n",
    "final_va_loss_b = [loss[-1] for loss in va_loss_b]\n",
    "best_alpha_idx = np.argmin(final_va_loss_b)\n",
    "best_alpha = alphas[best_alpha_idx]\n",
    "print(f\"Best alpha: {best_alpha}\")"
   ]
  },
  {
   "cell_type": "code",
   "execution_count": null,
   "id": "c55aa257",
   "metadata": {},
   "outputs": [],
   "source": []
  },
  {
   "cell_type": "code",
   "execution_count": null,
   "id": "c55aa257",
   "metadata": {},
   "outputs": [],
   "source": []
  }
 ],
 "metadata": {
  "kernelspec": {
   "display_name": "Python 3",
   "language": "python",
   "name": "python3"
  },
  "language_info": {
   "codemirror_mode": {
    "name": "ipython",
    "version": 3
   },
   "file_extension": ".py",
   "mimetype": "text/x-python",
   "name": "python",
   "nbconvert_exporter": "python",
   "pygments_lexer": "ipython3",
   "version": "3.10.14"
  }
 },
 "nbformat": 4,
 "nbformat_minor": 5
}
