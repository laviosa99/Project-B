{
 "cells": [
  {
   "cell_type": "code",
   "execution_count": null,
   "metadata": {},
   "outputs": [
    {
     "name": "stdout",
     "output_type": "stream",
     "text": [
      "Best MAE: 0.7255399798669238\n",
      "Best Parameters: {'n_factors': 152, 'lr_all': 0.01778279410038923, 'reg_all': 0.1}\n"
     ]
    }
   ],
   "source": [
    "from surprise import Dataset, Reader, SVD\n",
    "from surprise.model_selection import GridSearchCV\n",
    "import pandas as pd\n",
    "import numpy as np\n",
    "\n",
    "# Load the dataset\n",
    "ratings_all_path = \"data_movie_lens_100k/ratings_all_development_set.csv\"\n",
    "ratings_all_df = pd.read_csv(ratings_all_path)\n",
    "\n",
    "reader = Reader(rating_scale=(1, 5))\n",
    "data = Dataset.load_from_df(ratings_all_df[['user_id', 'item_id', 'rating']], reader)\n",
    "\n",
    "# Define the parameter grid\n",
    "param_grid = {\n",
    "    'n_factors': np.linspace(100, 200, 6, dtype=int),  # 100, 120, 140, 160, 180, 200\n",
    "    'lr_all': np.logspace(-2, np.log10(0.05), 6),  # 0.01, ..., 0.05 (logarithmic scale)\n",
    "    'reg_all': np.logspace(-2, np.log10(0.5), 6)   # 0.01, ..., 0.5 (logarithmic scale)\n",
    "}\n",
    "\n",
    "# Perform grid search\n",
    "gs = GridSearchCV(SVD, param_grid, measures=['mae'], cv=5)\n",
    "gs.fit(data)\n",
    "\n",
    "# Print best MAE score and corresponding parameters\n",
    "print(\"Best MAE:\", gs.best_score['mae'])\n",
    "print(\"Best Parameters:\", gs.best_params['mae'])"
   ]
  },
  {
   "cell_type": "code",
   "execution_count": 11,
   "metadata": {},
   "outputs": [
    {
     "name": "stdout",
     "output_type": "stream",
     "text": [
      "Predictions saved to predicted_ratings_leaderboard.txt\n"
     ]
    }
   ],
   "source": [
    "# Use the best model to generate predictions for the leaderboard dataset\n",
    "best_model = gs.best_estimator['mae']\n",
    "trainset = data.build_full_trainset()\n",
    "best_model.fit(trainset)\n",
    "\n",
    "# Load leaderboard dataset\n",
    "ratings_masked_path = \"data_movie_lens_100k/ratings_masked_leaderboard_set.csv\"\n",
    "ratings_masked_df = pd.read_csv(ratings_masked_path)\n",
    "\n",
    "# Generate predictions for leaderboard\n",
    "predictions = []\n",
    "for _, row in ratings_masked_df.iterrows():\n",
    "    pred = best_model.predict(row['user_id'], row['item_id']).est\n",
    "    predictions.append(pred)\n",
    "\n",
    "# Save predictions to a file\n",
    "output_path = \"predicted_ratings_leaderboard.txt\"\n",
    "import numpy as np\n",
    "np.savetxt(output_path, predictions)\n",
    "print(f\"Predictions saved to {output_path}\")"
   ]
  },
  {
   "cell_type": "code",
   "execution_count": 9,
   "metadata": {},
   "outputs": [
    {
     "name": "stdout",
     "output_type": "stream",
     "text": [
      "Best MAE: 0.7347440322379115\n",
      "Best Parameters: {'n_factors': 20, 'lr_all': 0.005, 'reg_all': 0.02}\n",
      "Predictions saved to predicted_ratings_leaderboard_svdpp.txt\n"
     ]
    }
   ],
   "source": [
    "from surprise import Dataset, Reader, SVDpp\n",
    "from surprise.model_selection import GridSearchCV\n",
    "import pandas as pd\n",
    "\n",
    "# Load the dataset\n",
    "ratings_all_path = \"data_movie_lens_100k/ratings_all_development_set.csv\"\n",
    "ratings_all_df = pd.read_csv(ratings_all_path)\n",
    "\n",
    "reader = Reader(rating_scale=(1, 5))\n",
    "data = Dataset.load_from_df(ratings_all_df[['user_id', 'item_id', 'rating']], reader)\n",
    "\n",
    "# Define the parameter grid for SVD++\n",
    "param_grid = {\n",
    "    'n_factors': [20, 50, 100],  # Number of latent factors\n",
    "    'lr_all': [0.002, 0.005],   # Learning rate\n",
    "    'reg_all': [0.02, 0.1]      # Regularization strength\n",
    "}\n",
    "\n",
    "# Perform grid search with SVD++\n",
    "gs = GridSearchCV(SVDpp, param_grid, measures=['mae'], cv=3)\n",
    "gs.fit(data)\n",
    "\n",
    "# Print the best MAE score and parameters\n",
    "print(\"Best MAE:\", gs.best_score['mae'])\n",
    "print(\"Best Parameters:\", gs.best_params['mae'])\n",
    "\n",
    "# Use the best model to generate predictions for the leaderboard dataset\n",
    "best_model = gs.best_estimator['mae']\n",
    "trainset = data.build_full_trainset()\n",
    "best_model.fit(trainset)\n",
    "\n",
    "# Load leaderboard dataset\n",
    "ratings_masked_path = \"data_movie_lens_100k/ratings_masked_leaderboard_set.csv\"\n",
    "ratings_masked_df = pd.read_csv(ratings_masked_path)\n",
    "\n",
    "# Generate predictions for leaderboard\n",
    "predictions = []\n",
    "for _, row in ratings_masked_df.iterrows():\n",
    "    pred = best_model.predict(row['user_id'], row['item_id']).est\n",
    "    predictions.append(pred)\n",
    "\n",
    "# Save predictions to a file\n",
    "output_path = \"predicted_ratings_leaderboard_svdpp.txt\"\n",
    "import numpy as np\n",
    "np.savetxt(output_path, predictions, fmt='%.6f')\n",
    "print(f\"Predictions saved to {output_path}\")"
   ]
  },
  {
   "cell_type": "code",
   "execution_count": null,
   "metadata": {},
   "outputs": [],
   "source": []
  }
 ],
 "metadata": {
  "kernelspec": {
   "display_name": "Python 3 (ipykernel)",
   "language": "python",
   "name": "python3"
  },
  "language_info": {
   "codemirror_mode": {
    "name": "ipython",
    "version": 3
   },
   "file_extension": ".py",
   "mimetype": "text/x-python",
   "name": "python",
   "nbconvert_exporter": "python",
   "pygments_lexer": "ipython3",
   "version": "3.10.14"
  }
 },
 "nbformat": 4,
 "nbformat_minor": 2
}
